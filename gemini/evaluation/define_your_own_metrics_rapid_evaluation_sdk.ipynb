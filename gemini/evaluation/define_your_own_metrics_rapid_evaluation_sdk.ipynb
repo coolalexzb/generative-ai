{
 "cells": [
  {
   "cell_type": "code",
   "execution_count": null,
   "metadata": {
    "id": "ur8xi4C7S06n"
   },
   "outputs": [],
   "source": [
    "# Copyright 2024 Google LLC\n",
    "#\n",
    "# Licensed under the Apache License, Version 2.0 (the \"License\");\n",
    "# you may not use this file except in compliance with the License.\n",
    "# You may obtain a copy of the License at\n",
    "#\n",
    "#     https://www.apache.org/licenses/LICENSE-2.0\n",
    "#\n",
    "# Unless required by applicable law or agreed to in writing, software\n",
    "# distributed under the License is distributed on an \"AS IS\" BASIS,\n",
    "# WITHOUT WARRANTIES OR CONDITIONS OF ANY KIND, either express or implied.\n",
    "# See the License for the specific language governing permissions and\n",
    "# limitations under the License."
   ]
  },
  {
   "cell_type": "markdown",
   "metadata": {
    "id": "JAPoU8Sm5E6e"
   },
   "source": [
    "# Rapid Eval SDK GA - Define Your Own Metrics\n",
    "\n",
    "{TODO: Update the links below. Use the next code cell to generate the HTML, then delete the code cell.}\n",
    "\n",
    "<table align=\"left\">\n",
    "  <td style=\"text-align: center\">\n",
    "    <a href=\"https://colab.research.google.com/github/GoogleCloudPlatform/generative-ai/blob/main/notebook_template.ipynb\">\n",
    "      <img width=\"32px\" src=\"https://www.gstatic.com/pantheon/images/bigquery/welcome_page/colab-logo.svg\" alt=\"Google Colaboratory logo\"><br> Open in Colab\n",
    "    </a>\n",
    "  </td>\n",
    "  <td style=\"text-align: center\">\n",
    "    <a href=\"https://console.cloud.google.com/vertex-ai/colab/import/https:%2F%2Fraw.githubusercontent.com%2FGoogleCloudPlatform%2Fgenerative-ai%2Fmain%2Fnotebook_template.ipynb\">\n",
    "      <img width=\"32px\" src=\"https://lh3.googleusercontent.com/JmcxdQi-qOpctIvWKgPtrzZdJJK-J3sWE1RsfjZNwshCFgE_9fULcNpuXYTilIR2hjwN\" alt=\"Google Cloud Colab Enterprise logo\"><br> Open in Colab Enterprise\n",
    "    </a>\n",
    "  </td>\n",
    "  <td style=\"text-align: center\">\n",
    "    <a href=\"https://console.cloud.google.com/vertex-ai/workbench/deploy-notebook?download_url=https://raw.githubusercontent.com/GoogleCloudPlatform/generative-ai/main/notebook_template.ipynb\">\n",
    "      <img src=\"https://www.gstatic.com/images/branding/gcpiconscolors/vertexai/v1/32px.svg\" alt=\"Vertex AI logo\"><br> Open in Vertex AI Workbench\n",
    "    </a>\n",
    "  </td>\n",
    "  <td style=\"text-align: center\">\n",
    "    <a href=\"https://github.com/GoogleCloudPlatform/generative-ai/blob/main/notebook_template.ipynb\">\n",
    "      <img width=\"32px\" src=\"https://upload.wikimedia.org/wikipedia/commons/9/91/Octicons-mark-github.svg\" alt=\"GitHub logo\"><br> View on GitHub\n",
    "    </a>\n",
    "  </td>\n",
    "</table>"
   ]
  },
  {
   "cell_type": "markdown",
   "metadata": {
    "id": "84f0f73a0f76"
   },
   "source": [
    "| | |\n",
    "|-|-|\n",
    "| Author(s) [Jason Dai](https://github.com/jsondai) [Bo Zheng](https://github.com/coolalexzb) [Naveksha Sood](https://github.com/navekshasood) |"
   ]
  },
  {
   "cell_type": "markdown",
   "metadata": {
    "id": "tvgnzT1CKxrO"
   },
   "source": [
    "## Overview\n",
    "\n",
    "Use Rapid Evaluation SDK to evaluate multiple prompt templates with your custom defined metrics."
   ]
  },
  {
   "cell_type": "markdown",
   "metadata": {
    "id": "61RBz8LLbxCR"
   },
   "source": [
    "## Get started"
   ]
  },
  {
   "cell_type": "markdown",
   "metadata": {
    "id": "No17Cw5hgx12"
   },
   "source": [
    "### Install Vertex AI SDK and other required packages\n"
   ]
  },
  {
   "cell_type": "code",
   "execution_count": null,
   "metadata": {
    "id": "tFy3H3aPgx12"
   },
   "outputs": [],
   "source": [
    "!pip3 install --upgrade --user --quiet google-cloud-aiplatform[evaluation]"
   ]
  },
  {
   "cell_type": "markdown",
   "metadata": {
    "id": "R5Xep4W9lq-Z"
   },
   "source": [
    "### Restart runtime\n",
    "\n",
    "To use the newly installed packages in this Jupyter runtime, you must restart the runtime. You can do this by running the cell below, which restarts the current kernel.\n",
    "\n",
    "The restart might take a minute or longer. After it's restarted, continue to the next step."
   ]
  },
  {
   "cell_type": "code",
   "execution_count": null,
   "metadata": {
    "id": "XRvKdaPDTznN"
   },
   "outputs": [],
   "source": [
    "import IPython\n",
    "\n",
    "app = IPython.Application.instance()\n",
    "app.kernel.do_shutdown(True)"
   ]
  },
  {
   "cell_type": "markdown",
   "metadata": {
    "id": "SbmM4z7FOBpM"
   },
   "source": [
    "<div class=\"alert alert-block alert-warning\">\n",
    "<b>⚠️ The kernel is going to restart. Wait until it's finished before continuing to the next step. ⚠️</b>\n",
    "</div>\n"
   ]
  },
  {
   "cell_type": "markdown",
   "metadata": {
    "id": "dmWOrTJ3gx13"
   },
   "source": [
    "### Authenticate your notebook environment (Colab only)\n",
    "\n",
    "If you're running this notebook on Google Colab, run the cell below to authenticate your environment."
   ]
  },
  {
   "cell_type": "code",
   "execution_count": null,
   "metadata": {
    "id": "NyKGtVQjgx13"
   },
   "outputs": [],
   "source": [
    "import sys\n",
    "\n",
    "if \"google.colab\" in sys.modules:\n",
    "    from google.colab import auth\n",
    "\n",
    "    auth.authenticate_user()"
   ]
  },
  {
   "cell_type": "markdown",
   "metadata": {
    "id": "DF4l8DTdWgPY"
   },
   "source": [
    "### Set Google Cloud project information and initialize Vertex AI SDK\n",
    "\n",
    "To get started using Vertex AI, you must have an existing Google Cloud project and [enable the Vertex AI API](https://console.cloud.google.com/flows/enableapi?apiid=aiplatform.googleapis.com).\n",
    "\n",
    "Learn more about [setting up a project and a development environment](https://cloud.google.com/vertex-ai/docs/start/cloud-environment)."
   ]
  },
  {
   "cell_type": "code",
   "execution_count": null,
   "metadata": {
    "id": "Nqwi-5ufWp_B"
   },
   "outputs": [],
   "source": [
    "# Use the environment variable if the user doesn't provide Project ID.\n",
    "import os\n",
    "\n",
    "import vertexai\n",
    "\n",
    "PROJECT_ID = \"[your-project-id]\"  # @param {type:\"string\", isTemplate: true}\n",
    "if PROJECT_ID == \"[your-project-id]\":\n",
    "    PROJECT_ID = str(os.environ.get(\"GOOGLE_CLOUD_PROJECT\"))\n",
    "\n",
    "LOCATION = os.environ.get(\"GOOGLE_CLOUD_REGION\", \"us-central1\")\n",
    "\n",
    "vertexai.init(project=PROJECT_ID, location=LOCATION)"
   ]
  },
  {
   "cell_type": "markdown",
   "metadata": {
    "id": "5303c05f7aa6"
   },
   "source": [
    "### Import libraries"
   ]
  },
  {
   "cell_type": "code",
   "execution_count": null,
   "metadata": {
    "id": "6fc324893334"
   },
   "outputs": [],
   "source": [
    "# General\n",
    "import inspect\n",
    "from google.colab import auth\n",
    "from IPython.display import display, Markdown, HTML\n",
    "import plotly.graph_objects as go\n",
    "import logging\n",
    "import random\n",
    "import string\n",
    "import warnings\n",
    "\n",
    "# Main\n",
    "import pandas as pd\n",
    "from vertexai.generative_models import GenerativeModel\n",
    "\n",
    "from vertexai.evaluation import (\n",
    "    EvalTask,\n",
    "    PointwiseMetric,\n",
    "    PairwiseMetric,\n",
    "    PointwiseMetricPromptTemplate,\n",
    "    PairwiseMetricPromptTemplate,\n",
    ")"
   ]
  },
  {
   "cell_type": "code",
   "source": [
    "logging.getLogger(\"urllib3.connectionpool\").setLevel(logging.ERROR)\n",
    "warnings.filterwarnings(\"ignore\")"
   ],
   "metadata": {
    "id": "KqA_Q8LcD4Ws"
   },
   "execution_count": null,
   "outputs": []
  },
  {
   "cell_type": "markdown",
   "metadata": {
    "id": "e43229f3ad4f"
   },
   "source": [
    "### Helper Functions"
   ]
  },
  {
   "cell_type": "code",
   "execution_count": null,
   "metadata": {
    "id": "cf93d5f0ce00"
   },
   "outputs": [],
   "source": [
    "def print_doc(function):\n",
    "    \"\"\"Print the docstring of a function.\"\"\"\n",
    "    print(f\"{function.__name__}:\\n{inspect.getdoc(function)}\\n\")\n",
    "\n",
    "\n",
    "def display_explanations(eval_result, metrics=None, n=1):\n",
    "    \"\"\"Display the explanations.\"\"\"\n",
    "    style = \"white-space: pre-wrap; width: 1500px; overflow-x: auto;\"\n",
    "    metrics_table = eval_result.metrics_table\n",
    "    df = metrics_table.sample(n=n)\n",
    "\n",
    "    if metrics:\n",
    "        df = df.filter(\n",
    "            [\"response\", \"baseline_model_response\"]\n",
    "            + [\n",
    "                metric\n",
    "                for metric in df.columns\n",
    "                if any(selected_metric in metric for selected_metric in metrics)\n",
    "            ]\n",
    "        )\n",
    "    for index, row in df.iterrows():\n",
    "        for col in df.columns:\n",
    "            display(HTML(f\"<div style='{style}'><h4>{col}:</h4>{row[col]}</div>\"))\n",
    "        display(HTML(\"<hr>\"))\n",
    "\n",
    "\n",
    "def display_eval_result(eval_result, title=None, metrics=None):\n",
    "    \"\"\"Display the evaluation results.\"\"\"\n",
    "    summary_metrics, metrics_table = (\n",
    "        eval_result.summary_metrics,\n",
    "        eval_result.metrics_table,\n",
    "    )\n",
    "\n",
    "    metrics_df = pd.DataFrame.from_dict(summary_metrics, orient=\"index\").T\n",
    "    if metrics:\n",
    "        metrics_df = metrics_df.filter(\n",
    "            [\n",
    "                metric\n",
    "                for metric in metrics_df.columns\n",
    "                if any(selected_metric in metric for selected_metric in metrics)\n",
    "            ]\n",
    "        )\n",
    "        metrics_table = metrics_table.filter(\n",
    "            [\n",
    "                metric\n",
    "                for metric in metrics_table.columns\n",
    "                if any(selected_metric in metric for selected_metric in metrics)\n",
    "            ]\n",
    "        )\n",
    "\n",
    "    if title:\n",
    "        # Display the title with Markdown for emphasis\n",
    "        display(Markdown(f\"## {title}\"))\n",
    "    # Display the summary metrics DataFrame\n",
    "    display(Markdown(\"### Summary Metrics\"))\n",
    "    display(metrics_df)\n",
    "    # Display the metrics table DataFrame\n",
    "    display(Markdown(\"### Row-based Metrics\"))\n",
    "    display(metrics_table)\n",
    "\n",
    "\n",
    "def display_radar_plot(eval_results, metrics=None):\n",
    "    \"\"\"Plot the radar plot.\"\"\"\n",
    "    fig = go.Figure()\n",
    "    for item in eval_results:\n",
    "        eval_result, title = item\n",
    "        summary_metrics = eval_result.summary_metrics\n",
    "        if metrics:\n",
    "            summary_metrics = {\n",
    "                k.replace(\"/mean\", \"\"): summary_metrics[k]\n",
    "                for k, v in summary_metrics.items()\n",
    "                if any(selected_metric + \"/mean\" in k for selected_metric in metrics)\n",
    "            }\n",
    "        fig.add_trace(\n",
    "            go.Scatterpolar(\n",
    "                r=list(summary_metrics.values()),\n",
    "                theta=list(summary_metrics.keys()),\n",
    "                fill=\"toself\",\n",
    "                name=title,\n",
    "            )\n",
    "        )\n",
    "    fig.update_layout(\n",
    "        polar=dict(radialaxis=dict(visible=True, range=[0, 5])), showlegend=True\n",
    "    )\n",
    "    fig.show()\n",
    "\n",
    "\n",
    "def display_bar_plot(eval_results_list, metrics=None):\n",
    "    fig = go.Figure()\n",
    "    data = []\n",
    "\n",
    "    for eval_results in eval_results_list:\n",
    "        eval_result, title = eval_results[0], eval_results[1]\n",
    "\n",
    "        summary_metrics = eval_result.summary_metrics\n",
    "        mean_summary_metrics = [f\"{metric}/mean\" for metric in metrics]\n",
    "        updated_summary_metrics = []\n",
    "        if metrics:\n",
    "            for k, v in summary_metrics.items():\n",
    "                if k in mean_summary_metrics:\n",
    "                    updated_summary_metrics.append((k, v))\n",
    "            summary_metrics = dict(updated_summary_metrics)\n",
    "            # summary_metrics = {k: summary_metrics[k] for k, v in summary_metrics.items() if any(selected_metric in k for selected_metric in metrics)}\n",
    "\n",
    "        data.append(\n",
    "            go.Bar(\n",
    "                x=list(summary_metrics.keys()),\n",
    "                y=list(summary_metrics.values()),\n",
    "                name=title,\n",
    "            )\n",
    "        )\n",
    "\n",
    "    fig = go.Figure(data=data)\n",
    "\n",
    "    # Change the bar mode\n",
    "    fig.update_layout(barmode=\"group\", showlegend=True)\n",
    "    fig.show()\n",
    "\n",
    "\n",
    "def sample_pairwise_result(eval_result, n=1, metric=None):\n",
    "    \"\"\"Display a random row of pairwise metric result with model responses.\"\"\"\n",
    "    style = \"white-space: pre-wrap; width: 800px; overflow-x: auto;\"\n",
    "    df = eval_result.metrics_table\n",
    "    df = df.sample(n=n)\n",
    "    for index, row in df.iterrows():\n",
    "        display(HTML(f\"<h2>Prompt:</h2> <div style='{style}'>{row['prompt']}</div>\"))\n",
    "        display(\n",
    "            HTML(\n",
    "                f\"<h2>Baseline Model Response:</h2> <div style='{style}'>{row['baseline_model_response']}</div>\"\n",
    "            )\n",
    "        )\n",
    "        display(\n",
    "            HTML(\n",
    "                f\"<h2>Candidate Model Response:</h2> <div style='{style}'>{row['response']}</div>\"\n",
    "            )\n",
    "        )\n",
    "        display(\n",
    "            HTML(\n",
    "                f\"<h2>Explanation:</h2> <div style='{style}'>{row[f'{metric}/explanation']}</div>\"\n",
    "            )\n",
    "        )\n",
    "        display(\n",
    "            HTML(\n",
    "                f\"<h2>Winner:</h2> <div style='{style}'>{row[f'{metric}/pairwise_choice']}</div>\"\n",
    "            )\n",
    "        )\n",
    "        display(HTML(\"<hr>\"))\n",
    "\n",
    "\n",
    "def display_pairwise_win_rate(eval_result, metric=None):\n",
    "    \"\"\"Display pairwise aggregated metrics\"\"\"\n",
    "    summary_metrics = eval_result.summary_metrics\n",
    "    candidate_model_win_rate = round(\n",
    "        summary_metrics[f\"{metric}/candidate_model_win_rate\"] * 100\n",
    "    )\n",
    "    display(\n",
    "        HTML(\n",
    "            f\"<h3>Win rate: Autorater prefers Candidate Model over Baseline Model {candidate_model_win_rate}% of time.</h3>\"\n",
    "        )\n",
    "    )\n",
    "\n",
    "\n",
    "def generate_uuid(length: int = 8) -> str:\n",
    "    \"\"\"Generate a uuid of a specified length (default=8).\"\"\"\n",
    "    return \"\".join(random.choices(string.ascii_lowercase + string.digits, k=length))"
   ]
  },
  {
   "cell_type": "markdown",
   "metadata": {
    "id": "2a4e033321ad"
   },
   "source": [
    "## Define an Evaluation Dataset"
   ]
  },
  {
   "cell_type": "code",
   "source": [
    "instruction = \"Summarize the following article: \\n\"\n",
    "\n",
    "context = [\n",
    "    \"To make a classic spaghetti carbonara, start by bringing a large pot of salted water to a boil. While the water is heating up, cook pancetta or guanciale in a skillet with olive oil over medium heat until it's crispy and golden brown. Once the pancetta is done, remove it from the skillet and set it aside. In the same skillet, whisk together eggs, grated Parmesan cheese, and black pepper to make the sauce. When the pasta is cooked al dente, drain it and immediately toss it in the skillet with the egg mixture, adding a splash of the pasta cooking water to create a creamy sauce.\",\n",
    "    \"Preparing a perfect risotto requires patience and attention to detail. Begin by heating butter in a large, heavy-bottomed pot over medium heat. Add finely chopped onions and minced garlic to the pot, and cook until they're soft and translucent, about 5 minutes. Next, add Arborio rice to the pot and cook, stirring constantly, until the grains are coated with the butter and begin to toast slightly. Pour in a splash of white wine and cook until it's absorbed. From there, gradually add hot chicken or vegetable broth to the rice, stirring frequently, until the risotto is creamy and the rice is tender with a slight bite.\",\n",
    "    \"For a flavorful grilled steak, start by choosing a well-marbled cut of beef like ribeye or New York strip. Season the steak generously with kosher salt and freshly ground black pepper on both sides, pressing the seasoning into the meat. Preheat a grill to high heat and brush the grates with oil to prevent sticking. Place the seasoned steak on the grill and cook for about 4-5 minutes on each side for medium-rare, or adjust the cooking time to your desired level of doneness. Let the steak rest for a few minutes before slicing against the grain and serving.\",\n",
    "    \"Creating a creamy homemade tomato soup is a comforting and simple process. Begin by heating olive oil in a large pot over medium heat. Add diced onions and minced garlic to the pot and cook until they're soft and fragrant. Next, add chopped fresh tomatoes, chicken or vegetable broth, and a sprig of fresh basil to the pot. Simmer the soup for about 20-30 minutes, or until the tomatoes are tender and falling apart. Remove the basil sprig and use an immersion blender to puree the soup until smooth. Season with salt and pepper to taste before serving.\",\n",
    "    \"To bake a decadent chocolate cake from scratch, start by preheating your oven to 350°F (175°C) and greasing and flouring two 9-inch round cake pans. In a large mixing bowl, cream together softened butter and granulated sugar until light and fluffy. Beat in eggs one at a time, making sure each egg is fully incorporated before adding the next. In a separate bowl, sift together all-purpose flour, cocoa powder, baking powder, baking soda, and salt. Divide the batter evenly between the prepared cake pans and bake for 25-30 minutes, or until a toothpick inserted into the center comes out clean.\",\n",
    "]\n",
    "\n",
    "reference = [\n",
    "    \"The process of making spaghetti carbonara involves boiling pasta, crisping pancetta or guanciale, whisking together eggs and Parmesan cheese, and tossing everything together to create a creamy sauce.\",\n",
    "    \"Preparing risotto entails sautéing onions and garlic, toasting Arborio rice, adding wine and broth gradually, and stirring until creamy and tender.\",\n",
    "    \"Grilling a flavorful steak involves seasoning generously, preheating the grill, cooking to desired doneness, and letting it rest before slicing.\",\n",
    "    \"Creating homemade tomato soup includes sautéing onions and garlic, simmering with tomatoes and broth, pureeing until smooth, and seasoning to taste.\",\n",
    "    \"Baking a decadent chocolate cake requires creaming butter and sugar, beating in eggs and alternating dry ingredients with buttermilk before baking until done.\",\n",
    "]\n",
    "\n",
    "\n",
    "eval_dataset = pd.DataFrame(\n",
    "    {\n",
    "        \"prompt\": [instruction + item for item in context],\n",
    "        \"reference\": reference,\n",
    "    }\n",
    ")"
   ],
   "metadata": {
    "id": "Kbrh64wBflN7"
   },
   "execution_count": null,
   "outputs": []
  },
  {
   "cell_type": "markdown",
   "source": [
    "## Define Your Own Metrics"
   ],
   "metadata": {
    "id": "ptDa6fsdh_b1"
   }
  },
  {
   "cell_type": "markdown",
   "source": [
    "### Templated Customization - Pointwise Metric"
   ],
   "metadata": {
    "id": "8H0vKMv21tWZ"
   }
  },
  {
   "cell_type": "code",
   "source": [
    "criteria = {\n",
    "    \"Proper Grammar\": \"The language's grammar rules are correctly followed, including but not limited to sentence structures, verb tenses, subject-verb agreement, proper punctuation, and capitalization.\",\n",
    "    \"Smooth\": \"Sentences flow smoothly and are easy to read, avoiding awkward phrasing or run-on sentences. Ideas and sentences connect logically, using transitions effectively where needed.\",\n",
    "    \"Appropriate word choice\": \"Words chosen are appropriate and purposeful given their relative context and positioning in the text. Vocabulary demonstrates prompt understanding.\",\n",
    "}\n",
    "\n",
    "pointwise_rating_rubric = {\n",
    "    \"5\": \"Completely Coherent: The writing has a seamless logical flow, is expertly organized, and maintains exceptional cohesion throughout.\",\n",
    "    \"4\": \"Mostly coherent: The writing demonstrates strong logical flow, a clear structure, and demonstrates good cohesion.\",\n",
    "    \"3\": \"Somewhat coherent: The writing's logical flow is mostly understandable, it has a recognizable structure, and cohesion is present but could be stronger.\",\n",
    "    \"2\": \"Somewhat incoherent: The writing lacks a clear logical flow, organizational structure is weak, and cohesion is inconsistent or confusing.\",\n",
    "    \"1\": \"Completely incoherent: The writing is highly illogical, lacks any clear organization, and has little to no cohesion.\",\n",
    "}"
   ],
   "metadata": {
    "id": "caI_VfJAEdIQ"
   },
   "execution_count": null,
   "outputs": []
  },
  {
   "cell_type": "code",
   "source": [
    "# The metric prompt template contains default prompts pre-defined for unspecified components.\n",
    "linguistic_acceptability_metric_prompt_template = PointwiseMetricPromptTemplate(\n",
    "    criteria=criteria,\n",
    "    rating_rubric=pointwise_rating_rubric,\n",
    "    input_variables=[\"prompt\"],\n",
    ")\n",
    "\n",
    "# Display the assembled prompt template that will be sent to Gen AI Eval Service\n",
    "# along with the input data for model-based evaluation.\n",
    "print(linguistic_acceptability_metric_prompt_template.prompt_data)"
   ],
   "metadata": {
    "id": "m44KHgkPh-qF"
   },
   "execution_count": null,
   "outputs": []
  },
  {
   "cell_type": "code",
   "source": [
    "# Model to be evaluated\n",
    "generation_config = {\"temperature\": 0.5, \"max_output_tokens\": 256, \"top_k\": 1}\n",
    "\n",
    "model = GenerativeModel(\"gemini-1.5-pro\", generation_config=generation_config)"
   ],
   "metadata": {
    "id": "UQavwTyAEnkO"
   },
   "execution_count": null,
   "outputs": []
  },
  {
   "cell_type": "code",
   "source": [
    "# Define this custom \"linguistic_acceptability\" model-based metric.\n",
    "linguistic_acceptability = PointwiseMetric(\n",
    "    metric=\"linguistic_acceptability\",\n",
    "    metric_prompt_template=linguistic_acceptability_metric_prompt_template,\n",
    ")\n",
    "\n",
    "linguistic_acceptability_eval_task = EvalTask(\n",
    "    dataset=eval_dataset,\n",
    "    metrics=[linguistic_acceptability],\n",
    ")\n",
    "\n",
    "linguistic_acceptability_result = linguistic_acceptability_eval_task.evaluate(\n",
    "    model=model,\n",
    ")"
   ],
   "metadata": {
    "id": "ghmHodc4h-76"
   },
   "execution_count": null,
   "outputs": []
  },
  {
   "cell_type": "code",
   "source": [
    "display_eval_result(linguistic_acceptability_result)"
   ],
   "metadata": {
    "id": "zDoDBIMXh--w"
   },
   "execution_count": null,
   "outputs": []
  },
  {
   "cell_type": "code",
   "source": [
    "display_explanations(\n",
    "    linguistic_acceptability_result, metrics=[\"linguistic_acceptability\"], n=1\n",
    ")"
   ],
   "metadata": {
    "id": "VDFYbN1u3SxV"
   },
   "execution_count": null,
   "outputs": []
  },
  {
   "cell_type": "markdown",
   "source": [
    "### Templated Customization - Pairwise Metric"
   ],
   "metadata": {
    "id": "6Lso-CcH2mAv"
   }
  },
  {
   "cell_type": "code",
   "source": [
    "baseline_model = GenerativeModel(\n",
    "    \"gemini-1.0-pro\",\n",
    ")"
   ],
   "metadata": {
    "id": "BbMOOazn2mKF"
   },
   "execution_count": null,
   "outputs": []
  },
  {
   "cell_type": "code",
   "source": [
    "pairwise_rating_rubric = {\n",
    "    \"A\": \"Response A answers the given question as per the criteria better than response B.\",\n",
    "    \"SAME\": \"Response A and B answers the given question equally well as per the criteria.\",\n",
    "    \"B\": \"Response B answers the given question as per the criteria better than response A.\",\n",
    "}\n",
    "\n",
    "pairwise_linguistic_acceptability_prompt_template = PairwiseMetricPromptTemplate(\n",
    "    criteria=criteria,\n",
    "    rating_rubric=pairwise_rating_rubric,\n",
    "    input_variables=[\"prompt\"],\n",
    ")\n",
    "\n",
    "pairwise_linguistic_acceptability = PairwiseMetric(\n",
    "    metric=\"pairwise_linguistic_acceptability\",\n",
    "    metric_prompt_template=pairwise_linguistic_acceptability_prompt_template,\n",
    "    baseline_model=baseline_model,\n",
    ")\n",
    "\n",
    "print(pairwise_linguistic_acceptability_prompt_template.prompt_data)"
   ],
   "metadata": {
    "id": "5tNjD6Y82mMb"
   },
   "execution_count": null,
   "outputs": []
  },
  {
   "cell_type": "code",
   "source": [
    "pairwise_eval_task = EvalTask(\n",
    "    dataset=eval_dataset,\n",
    "    metrics=[pairwise_linguistic_acceptability],\n",
    ")\n",
    "\n",
    "pairwise_result = pairwise_eval_task.evaluate(\n",
    "    model=model,\n",
    ")"
   ],
   "metadata": {
    "id": "aAFGz5iO2mOp"
   },
   "execution_count": null,
   "outputs": []
  },
  {
   "cell_type": "code",
   "source": [
    "display_eval_result(pairwise_result)"
   ],
   "metadata": {
    "id": "EagIMRW72mQr"
   },
   "execution_count": null,
   "outputs": []
  },
  {
   "cell_type": "code",
   "source": [
    "sample_pairwise_result(pairwise_result, metric=\"pairwise_linguistic_acceptability\")"
   ],
   "metadata": {
    "id": "mAV7CcS321Ej"
   },
   "execution_count": null,
   "outputs": []
  },
  {
   "cell_type": "markdown",
   "source": [
    "### Free-form customization - Pointwise Metric"
   ],
   "metadata": {
    "id": "2rgvtWD6iI03"
   }
  },
  {
   "cell_type": "code",
   "source": [
    "free_form_pointwise_metric_prompt = \"\"\"\n",
    "# Instruction\n",
    "You are an expert evaluator. Your task is to evaluate the quality of the responses generated by AI models.\n",
    "We will provide you with the user prompt and an AI-generated responses.\n",
    "You should first read the user prompt carefully for analyzing the task, and then evaluate the quality of the responses based on and Criteria provided in the Evaluation section below.\n",
    "\n",
    "You will assign the response a score from 5, 4, 3, 2, 1, following the Rating Rubric and Evaluation Steps. Give step-by-step explanations for your scoring, and only choose scores from 5, 4, 3, 2, 1.\n",
    "\n",
    "# Evaluation\n",
    "## Metric Definition\n",
    "You will be assessing Text Quality, which measures how effectively the text conveys clear, accurate, and engaging information that directly addresses the user's prompt, considering factors like fluency, coherence, relevance, and conciseness.\n",
    "\n",
    "## Criteria\n",
    "Coherence: The response presents ideas in a logical and organized manner, with clear transitions and a consistent focus, making it easy to follow and understand.\n",
    "Fluency: The text flows smoothly and naturally, adhering to grammatical rules and using appropriate vocabulary.\n",
    "Instruction following: The response demonstrates a clear understanding of the summarization task instructions, satisfying all of the instruction's requirements.\n",
    "Groundedness: The response contains information included only in the context. The response does not reference any outside information.\n",
    "Verbosity: The response is appropriately concise, providing sufficient detail without using complex language to thoroughly address the prompt without being overly wordy or excessively brief.\n",
    "\n",
    "## Rating Rubric\n",
    "5: (Very good). Exceptionally clear, coherent, fluent, and concise. Fully adheres to instructions and stays grounded.\n",
    "4: (Good). Well-written, coherent, and fluent. Mostly adheres to instructions and stays grounded. Minor room for improvement.\n",
    "3: (Ok). Adequate writing with decent coherence and fluency. Partially fulfills instructions and may contain minor ungrounded information. Could be more concise.\n",
    "2: (Bad). Poorly written, lacking coherence and fluency. Struggles to adhere to instructions and may include ungrounded information. Issues with conciseness.\n",
    "1: (Very bad). Very poorly written, incoherent, and non-fluent. Fails to follow instructions and contains substantial ungrounded information. Severely lacking in conciseness.\n",
    "\n",
    "## Evaluation Steps\n",
    "STEP 1: Assess the response in aspects of all criteria provided. Provide assessment according to each criterion.\n",
    "STEP 2: Score based on the rating rubric. Give a brief rationale to explain your evaluation considering each individual criterion.\n",
    "\n",
    "# User Inputs and AI-generated Response\n",
    "## User Inputs\n",
    "### Prompt\n",
    "{prompt}\n",
    "\n",
    "## AI-generated Response\n",
    "{response}\n",
    "\"\"\""
   ],
   "metadata": {
    "id": "SL5HxMWpiM7P"
   },
   "execution_count": null,
   "outputs": []
  },
  {
   "cell_type": "code",
   "source": [
    "free_form_pointwise_text_quality_metric = PointwiseMetric(\n",
    "    metric=\"free_form_pointwise_text_quality\",\n",
    "    metric_prompt_template=free_form_pointwise_metric_prompt,\n",
    ")\n",
    "\n",
    "\n",
    "free_form_pointwise_eval_task = EvalTask(\n",
    "    dataset=eval_dataset,\n",
    "    metrics=[free_form_pointwise_text_quality_metric],\n",
    ")\n",
    "\n",
    "free_form_pointwise_result = free_form_pointwise_eval_task.evaluate(model=model)"
   ],
   "metadata": {
    "id": "34BypD7B0KtD"
   },
   "execution_count": null,
   "outputs": []
  },
  {
   "cell_type": "code",
   "source": [
    "display_eval_result(free_form_pointwise_result)"
   ],
   "metadata": {
    "id": "0w75WjB30Vgp"
   },
   "execution_count": null,
   "outputs": []
  },
  {
   "cell_type": "markdown",
   "source": [
    "### Free-form customization - Pairwise Metric"
   ],
   "metadata": {
    "id": "jc-cq8L_3Dxu"
   }
  },
  {
   "cell_type": "code",
   "source": [
    "free_form_pairwise_metric_prompt = \"\"\"\n",
    "# Instruction\n",
    "You are an expert evaluator. Your task is to evaluate the quality of the responses generated by two AI models. We will provide you with the user input and a pair of AI-generated responses (Response A and Response B).\n",
    "You should first read the user input carefully for analyzing the task, and then evaluate the quality of the responses based on the Criteria provided in the Evaluation section below.\n",
    "You will first judge responses individually, following the Rating Rubric and Evaluation Steps.\n",
    "Then you will give step-by-step explanations for your judgement, compare results to declare the winner based on the Rating Rubric and Evaluation Steps.\n",
    "\n",
    "# Evaluation\n",
    "## Metric Definition\n",
    "You will be assessing the verbosity of each model's response, which measures its conciseness and ability to provide sufficient detail without being overly wordy or excessively brief.\n",
    "\n",
    "## Criteria\n",
    "Verbosity: The response is appropriately concise, providing sufficient detail without using complex language to thoroughly address the prompt without being overly wordy  or excessively brief.\n",
    "\n",
    "## Rating Rubric\n",
    "\"A\": Response A is more appropriately concise than Response B. It strikes a better balance between providing sufficient detail and avoiding unnecessary wordiness or excessive brevity.\n",
    "\"SAME\": Response A and B are equally concise. They both strike the same level of balance between providing sufficient detail and avoiding unnecessary wordiness or excessive brevity.\n",
    "\"B\": Response B is more appropriately concise than Response A. It strikes a better balance between providing sufficient detail and avoiding unnecessary wordiness or excessive brevity.\n",
    "\n",
    "## Evaluation Steps\n",
    "STEP 1: Analyze Response A based on the Verbosity criterion regarding completeness, conciseness, and overall balance.\n",
    "STEP 2: Analyze Response B based on the Verbosity criterion regarding completeness, conciseness, and overall balance.\n",
    "STEP 3: Compare the overall performance of Response A and Response B based on your analyses and assessment.\n",
    "STEP 4: Output your preference of \"A\", \"SAME\" or \"B\" to the pairwise_choice field according to the Rating Rubric.\n",
    "STEP 5: Output your assessment reasoning in the explanation field, justifying your choice by highlighting the specific strengths and weaknesses of each response in terms of verbosity.\n",
    "\n",
    "# User Inputs and AI-generated Responses\n",
    "## User Inputs\n",
    "### Prompt\n",
    "{prompt}\n",
    "\n",
    "# AI-generated Responses\n",
    "\n",
    "### Response A\n",
    "{baseline_model_response}\n",
    "\n",
    "### Response B\n",
    "{response}\n",
    "\"\"\""
   ],
   "metadata": {
    "id": "qW6NqKPI3C2Q"
   },
   "execution_count": null,
   "outputs": []
  },
  {
   "cell_type": "code",
   "source": [
    "free_form_pairwise_metric = PairwiseMetric(\n",
    "    metric=\"free_form_pairwise_verbosity\",\n",
    "    metric_prompt_template=free_form_pairwise_metric_prompt,\n",
    "    baseline_model=baseline_model,\n",
    ")\n",
    "free_form_pairwise_eval_task = EvalTask(\n",
    "    dataset=eval_dataset,\n",
    "    metrics=[free_form_pairwise_metric],\n",
    ")\n",
    "\n",
    "free_form_pairwise_result = free_form_pairwise_eval_task.evaluate(\n",
    "    model=model,\n",
    ")"
   ],
   "metadata": {
    "id": "9xAiFfx03KoX"
   },
   "execution_count": null,
   "outputs": []
  },
  {
   "cell_type": "code",
   "source": [
    "display_eval_result(free_form_pairwise_result)"
   ],
   "metadata": {
    "id": "hePAk0BT3Mp5"
   },
   "execution_count": null,
   "outputs": []
  }
 ],
 "metadata": {
  "colab": {
   "provenance": [
    {
     "file_id": "1UzZRW4ylHUQHYGLI4eUlMLatn7xUY4G7",
     "timestamp": 1724707915092
    },
    {
     "file_id": "https://github.com/GoogleCloudPlatform/generative-ai/blob/main/notebook_template.ipynb",
     "timestamp": 1724704461801
    }
   ]
  },
  "kernelspec": {
   "display_name": "Python 3",
   "name": "python3"
  }
 },
 "nbformat": 4,
 "nbformat_minor": 0
}
